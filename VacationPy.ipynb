{
 "cells": [
  {
   "cell_type": "code",
   "execution_count": 24,
   "id": "78f0e520",
   "metadata": {},
   "outputs": [],
   "source": [
    "# Import dependencies\n",
    "import pandas as pd\n",
    "import gmaps\n",
    "import requests\n",
    "\n",
    "# Import API key\n",
    "from config import google_api_key"
   ]
  },
  {
   "cell_type": "code",
   "execution_count": 25,
   "id": "f9411eae",
   "metadata": {},
   "outputs": [
    {
     "data": {
      "text/html": [
       "<div>\n",
       "<style scoped>\n",
       "    .dataframe tbody tr th:only-of-type {\n",
       "        vertical-align: middle;\n",
       "    }\n",
       "\n",
       "    .dataframe tbody tr th {\n",
       "        vertical-align: top;\n",
       "    }\n",
       "\n",
       "    .dataframe thead th {\n",
       "        text-align: right;\n",
       "    }\n",
       "</style>\n",
       "<table border=\"1\" class=\"dataframe\">\n",
       "  <thead>\n",
       "    <tr style=\"text-align: right;\">\n",
       "      <th></th>\n",
       "      <th>City_ID</th>\n",
       "      <th>City</th>\n",
       "      <th>Country</th>\n",
       "      <th>Date</th>\n",
       "      <th>Lat</th>\n",
       "      <th>Lng</th>\n",
       "      <th>Max Temp</th>\n",
       "      <th>Humidity</th>\n",
       "      <th>Cloudiness</th>\n",
       "      <th>Wind Speed</th>\n",
       "    </tr>\n",
       "  </thead>\n",
       "  <tbody>\n",
       "    <tr>\n",
       "      <th>0</th>\n",
       "      <td>0</td>\n",
       "      <td>Kralendijk</td>\n",
       "      <td>BQ</td>\n",
       "      <td>2022-06-09 03:35:38</td>\n",
       "      <td>12.1500</td>\n",
       "      <td>-68.2667</td>\n",
       "      <td>80.58</td>\n",
       "      <td>83</td>\n",
       "      <td>20</td>\n",
       "      <td>14.97</td>\n",
       "    </tr>\n",
       "    <tr>\n",
       "      <th>1</th>\n",
       "      <td>1</td>\n",
       "      <td>Butaritari</td>\n",
       "      <td>KI</td>\n",
       "      <td>2022-06-09 03:35:38</td>\n",
       "      <td>3.0707</td>\n",
       "      <td>172.7902</td>\n",
       "      <td>82.04</td>\n",
       "      <td>70</td>\n",
       "      <td>9</td>\n",
       "      <td>9.06</td>\n",
       "    </tr>\n",
       "    <tr>\n",
       "      <th>2</th>\n",
       "      <td>2</td>\n",
       "      <td>Saint-Philippe</td>\n",
       "      <td>RE</td>\n",
       "      <td>2022-06-09 03:33:58</td>\n",
       "      <td>-21.3585</td>\n",
       "      <td>55.7679</td>\n",
       "      <td>66.11</td>\n",
       "      <td>77</td>\n",
       "      <td>95</td>\n",
       "      <td>13.18</td>\n",
       "    </tr>\n",
       "    <tr>\n",
       "      <th>3</th>\n",
       "      <td>3</td>\n",
       "      <td>Sorong</td>\n",
       "      <td>ID</td>\n",
       "      <td>2022-06-09 03:35:39</td>\n",
       "      <td>-0.8833</td>\n",
       "      <td>131.2500</td>\n",
       "      <td>82.31</td>\n",
       "      <td>79</td>\n",
       "      <td>100</td>\n",
       "      <td>5.86</td>\n",
       "    </tr>\n",
       "    <tr>\n",
       "      <th>4</th>\n",
       "      <td>4</td>\n",
       "      <td>Matay</td>\n",
       "      <td>EG</td>\n",
       "      <td>2022-06-09 03:35:39</td>\n",
       "      <td>28.4190</td>\n",
       "      <td>30.7792</td>\n",
       "      <td>84.49</td>\n",
       "      <td>27</td>\n",
       "      <td>0</td>\n",
       "      <td>5.17</td>\n",
       "    </tr>\n",
       "  </tbody>\n",
       "</table>\n",
       "</div>"
      ],
      "text/plain": [
       "   City_ID            City Country                 Date      Lat       Lng  \\\n",
       "0        0      Kralendijk      BQ  2022-06-09 03:35:38  12.1500  -68.2667   \n",
       "1        1      Butaritari      KI  2022-06-09 03:35:38   3.0707  172.7902   \n",
       "2        2  Saint-Philippe      RE  2022-06-09 03:33:58 -21.3585   55.7679   \n",
       "3        3          Sorong      ID  2022-06-09 03:35:39  -0.8833  131.2500   \n",
       "4        4           Matay      EG  2022-06-09 03:35:39  28.4190   30.7792   \n",
       "\n",
       "   Max Temp  Humidity  Cloudiness  Wind Speed  \n",
       "0     80.58        83          20       14.97  \n",
       "1     82.04        70           9        9.06  \n",
       "2     66.11        77          95       13.18  \n",
       "3     82.31        79         100        5.86  \n",
       "4     84.49        27           0        5.17  "
      ]
     },
     "execution_count": 25,
     "metadata": {},
     "output_type": "execute_result"
    }
   ],
   "source": [
    "# Store city_data_df into df\n",
    "city_data_df = pd.read_csv(\"weather_data/cities.csv\")\n",
    "city_data_df.head()"
   ]
  },
  {
   "cell_type": "code",
   "execution_count": 26,
   "id": "71bd78cc",
   "metadata": {
    "scrolled": true
   },
   "outputs": [
    {
     "data": {
      "text/plain": [
       "City_ID         int64\n",
       "City           object\n",
       "Country        object\n",
       "Date           object\n",
       "Lat           float64\n",
       "Lng           float64\n",
       "Max Temp      float64\n",
       "Humidity        int64\n",
       "Cloudiness      int64\n",
       "Wind Speed    float64\n",
       "dtype: object"
      ]
     },
     "execution_count": 26,
     "metadata": {},
     "output_type": "execute_result"
    }
   ],
   "source": [
    "city_data_df.dtypes"
   ]
  },
  {
   "cell_type": "code",
   "execution_count": 27,
   "id": "83ca2ce2",
   "metadata": {},
   "outputs": [],
   "source": [
    "# Configure gmaps to use your Google API key\n",
    "gmaps.configure(api_key=google_api_key)"
   ]
  },
  {
   "cell_type": "code",
   "execution_count": 28,
   "id": "506b6743",
   "metadata": {},
   "outputs": [
    {
     "name": "stderr",
     "output_type": "stream",
     "text": [
      "Enabling notebook extension jupyter-gmaps/extension...\n",
      "      - Validating: ok\n",
      "Enabling notebook extension jupyter-js-widgets/extension...\n",
      "      - Validating: ok\n"
     ]
    }
   ],
   "source": [
    "!jupyter nbextension enable --py gmaps\n",
    "!jupyter nbextension enable --py widgetsnbextension"
   ]
  },
  {
   "cell_type": "code",
   "execution_count": 29,
   "id": "e6314d98",
   "metadata": {},
   "outputs": [
    {
     "data": {
      "application/vnd.jupyter.widget-view+json": {
       "model_id": "2b437be4a87e4f1993bb07749f3b9c30",
       "version_major": 2,
       "version_minor": 0
      },
      "text/plain": [
       "Figure(layout=FigureLayout(height='420px'))"
      ]
     },
     "metadata": {},
     "output_type": "display_data"
    }
   ],
   "source": [
    "# CREATE HEATMAP of temp\n",
    "# Assign locations to an array of lat/long pairs\n",
    "locations = city_data_df[[\"Lat\", \"Lng\"]]\n",
    "# Assign weight for heatmap variables\n",
    "max_temp = city_data_df[\"Max Temp\"]\n",
    "temps = []\n",
    "\n",
    "##for temp in max_temp:\n",
    "##    temps.append(max(temp, 0))\n",
    "## OR\n",
    "temps = [max(temp, 0) for temp in max_temp]\n",
    "    \n",
    "# Assign figure variable to gmaps.figure() attribute\n",
    "fig = gmaps.figure(center=(30.0, 31.0), zoom_level=1.5)\n",
    "# Assign heatmap_layer variable to heatmap_layer attribute and add in locations\n",
    "heat_layer = gmaps.heatmap_layer(locations, weights=temps,\n",
    "                                dissipating=False, max_intensity=300,\n",
    "                                point_radius=4)\n",
    "# Add in heatmap_layer\n",
    "fig.add_layer(heat_layer)\n",
    "# Call figure to plot the data\n",
    "fig"
   ]
  },
  {
   "cell_type": "code",
   "execution_count": 30,
   "id": "46207b93",
   "metadata": {},
   "outputs": [
    {
     "data": {
      "application/vnd.jupyter.widget-view+json": {
       "model_id": "c6f425e22c9b4699938ffe4e1f4763b3",
       "version_major": 2,
       "version_minor": 0
      },
      "text/plain": [
       "Figure(layout=FigureLayout(height='420px'))"
      ]
     },
     "metadata": {},
     "output_type": "display_data"
    }
   ],
   "source": [
    "#REATE HEATMAP OF humidity\n",
    "humidity = city_data_df[\"Humidity\"]\n",
    "\n",
    "# Assign figure variable to gmaps.figure() attribute\n",
    "fig = gmaps.figure(center=(30.0, 31.0), zoom_level=1.5)\n",
    "# Assign heatmap_layer variable to heatmap_layer attribute and add in locations\n",
    "heat_layer = gmaps.heatmap_layer(locations, weights=humidity,\n",
    "                                dissipating=False, max_intensity=300,\n",
    "                                point_radius=4)\n",
    "# Add in heatmap_layer\n",
    "fig.add_layer(heat_layer)\n",
    "# Call figure to plot the data\n",
    "fig"
   ]
  },
  {
   "cell_type": "code",
   "execution_count": 31,
   "id": "309556b4",
   "metadata": {},
   "outputs": [
    {
     "data": {
      "application/vnd.jupyter.widget-view+json": {
       "model_id": "d75ec53e26db4954b075ff9d9467fd44",
       "version_major": 2,
       "version_minor": 0
      },
      "text/plain": [
       "Figure(layout=FigureLayout(height='420px'))"
      ]
     },
     "metadata": {},
     "output_type": "display_data"
    }
   ],
   "source": [
    "#REATE HEATMAP OF humidity\n",
    "clouds = city_data_df[\"Cloudiness\"]\n",
    "\n",
    "# Assign figure variable to gmaps.figure() attribute\n",
    "fig = gmaps.figure(center=(30.0, 31.0), zoom_level=1.5)\n",
    "# Assign heatmap_layer variable to heatmap_layer attribute and add in locations\n",
    "heat_layer = gmaps.heatmap_layer(locations, weights=clouds,\n",
    "                                dissipating=False, max_intensity=300,\n",
    "                                point_radius=4)\n",
    "# Add in heatmap_layer\n",
    "fig.add_layer(heat_layer)\n",
    "# Call figure to plot the data\n",
    "fig"
   ]
  },
  {
   "cell_type": "code",
   "execution_count": 32,
   "id": "f1ac7e0f",
   "metadata": {
    "scrolled": true
   },
   "outputs": [
    {
     "data": {
      "application/vnd.jupyter.widget-view+json": {
       "model_id": "41326db3b5534f99be48e7b6c260d537",
       "version_major": 2,
       "version_minor": 0
      },
      "text/plain": [
       "Figure(layout=FigureLayout(height='420px'))"
      ]
     },
     "metadata": {},
     "output_type": "display_data"
    }
   ],
   "source": [
    "#REATE HEATMAP OF humidity\n",
    "wind = city_data_df[\"Wind Speed\"]\n",
    "\n",
    "# Assign figure variable to gmaps.figure() attribute\n",
    "fig = gmaps.figure(center=(30.0, 31.0), zoom_level=1.5)\n",
    "# Assign heatmap_layer variable to heatmap_layer attribute and add in locations\n",
    "heat_layer = gmaps.heatmap_layer(locations, weights=wind,\n",
    "                                dissipating=False, max_intensity=300,\n",
    "                                point_radius=4)\n",
    "# Add in heatmap_layer\n",
    "fig.add_layer(heat_layer)\n",
    "# Call figure to plot the data\n",
    "fig"
   ]
  },
  {
   "cell_type": "code",
   "execution_count": 13,
   "id": "4e520914",
   "metadata": {},
   "outputs": [
    {
     "name": "stdout",
     "output_type": "stream",
     "text": [
      "What is the min temperature you would like for your trip? 70\n",
      "What is the max temperature you would like for your trip? 100\n"
     ]
    }
   ],
   "source": [
    "# Ask the customer the min and max temp value\n",
    "min_temp = float(input(\"What is the min temperature you would like for your trip? \"))\n",
    "max_temp = float(input(\"What is the max temperature you would like for your trip? \"))"
   ]
  },
  {
   "cell_type": "code",
   "execution_count": 33,
   "id": "d2d87cf3",
   "metadata": {},
   "outputs": [
    {
     "data": {
      "text/html": [
       "<div>\n",
       "<style scoped>\n",
       "    .dataframe tbody tr th:only-of-type {\n",
       "        vertical-align: middle;\n",
       "    }\n",
       "\n",
       "    .dataframe tbody tr th {\n",
       "        vertical-align: top;\n",
       "    }\n",
       "\n",
       "    .dataframe thead th {\n",
       "        text-align: right;\n",
       "    }\n",
       "</style>\n",
       "<table border=\"1\" class=\"dataframe\">\n",
       "  <thead>\n",
       "    <tr style=\"text-align: right;\">\n",
       "      <th></th>\n",
       "      <th>City_ID</th>\n",
       "      <th>City</th>\n",
       "      <th>Country</th>\n",
       "      <th>Date</th>\n",
       "      <th>Lat</th>\n",
       "      <th>Lng</th>\n",
       "      <th>Max Temp</th>\n",
       "      <th>Humidity</th>\n",
       "      <th>Cloudiness</th>\n",
       "      <th>Wind Speed</th>\n",
       "    </tr>\n",
       "  </thead>\n",
       "  <tbody>\n",
       "    <tr>\n",
       "      <th>0</th>\n",
       "      <td>0</td>\n",
       "      <td>Kralendijk</td>\n",
       "      <td>BQ</td>\n",
       "      <td>2022-06-09 03:35:38</td>\n",
       "      <td>12.1500</td>\n",
       "      <td>-68.2667</td>\n",
       "      <td>80.58</td>\n",
       "      <td>83</td>\n",
       "      <td>20</td>\n",
       "      <td>14.97</td>\n",
       "    </tr>\n",
       "    <tr>\n",
       "      <th>1</th>\n",
       "      <td>1</td>\n",
       "      <td>Butaritari</td>\n",
       "      <td>KI</td>\n",
       "      <td>2022-06-09 03:35:38</td>\n",
       "      <td>3.0707</td>\n",
       "      <td>172.7902</td>\n",
       "      <td>82.04</td>\n",
       "      <td>70</td>\n",
       "      <td>9</td>\n",
       "      <td>9.06</td>\n",
       "    </tr>\n",
       "    <tr>\n",
       "      <th>3</th>\n",
       "      <td>3</td>\n",
       "      <td>Sorong</td>\n",
       "      <td>ID</td>\n",
       "      <td>2022-06-09 03:35:39</td>\n",
       "      <td>-0.8833</td>\n",
       "      <td>131.2500</td>\n",
       "      <td>82.31</td>\n",
       "      <td>79</td>\n",
       "      <td>100</td>\n",
       "      <td>5.86</td>\n",
       "    </tr>\n",
       "    <tr>\n",
       "      <th>4</th>\n",
       "      <td>4</td>\n",
       "      <td>Matay</td>\n",
       "      <td>EG</td>\n",
       "      <td>2022-06-09 03:35:39</td>\n",
       "      <td>28.4190</td>\n",
       "      <td>30.7792</td>\n",
       "      <td>84.49</td>\n",
       "      <td>27</td>\n",
       "      <td>0</td>\n",
       "      <td>5.17</td>\n",
       "    </tr>\n",
       "    <tr>\n",
       "      <th>5</th>\n",
       "      <td>5</td>\n",
       "      <td>Kuching</td>\n",
       "      <td>MY</td>\n",
       "      <td>2022-06-09 03:35:40</td>\n",
       "      <td>1.5500</td>\n",
       "      <td>110.3333</td>\n",
       "      <td>77.22</td>\n",
       "      <td>94</td>\n",
       "      <td>40</td>\n",
       "      <td>3.44</td>\n",
       "    </tr>\n",
       "  </tbody>\n",
       "</table>\n",
       "</div>"
      ],
      "text/plain": [
       "   City_ID        City Country                 Date      Lat       Lng  \\\n",
       "0        0  Kralendijk      BQ  2022-06-09 03:35:38  12.1500  -68.2667   \n",
       "1        1  Butaritari      KI  2022-06-09 03:35:38   3.0707  172.7902   \n",
       "3        3      Sorong      ID  2022-06-09 03:35:39  -0.8833  131.2500   \n",
       "4        4       Matay      EG  2022-06-09 03:35:39  28.4190   30.7792   \n",
       "5        5     Kuching      MY  2022-06-09 03:35:40   1.5500  110.3333   \n",
       "\n",
       "   Max Temp  Humidity  Cloudiness  Wind Speed  \n",
       "0     80.58        83          20       14.97  \n",
       "1     82.04        70           9        9.06  \n",
       "3     82.31        79         100        5.86  \n",
       "4     84.49        27           0        5.17  \n",
       "5     77.22        94          40        3.44  "
      ]
     },
     "execution_count": 33,
     "metadata": {},
     "output_type": "execute_result"
    }
   ],
   "source": [
    "# Filter based on the user inputs to grab all cities with that crieria\n",
    "preferred_cities_df = city_data_df.loc[(city_data_df[\"Max Temp\"] <= max_temp) & (city_data_df[\"Max Temp\"] >= min_temp)]\n",
    "preferred_cities_df.head()"
   ]
  },
  {
   "cell_type": "code",
   "execution_count": 34,
   "id": "0ecc6902",
   "metadata": {},
   "outputs": [
    {
     "data": {
      "text/plain": [
       "City_ID       36\n",
       "City          36\n",
       "Country       36\n",
       "Date          36\n",
       "Lat           36\n",
       "Lng           36\n",
       "Max Temp      36\n",
       "Humidity      36\n",
       "Cloudiness    36\n",
       "Wind Speed    36\n",
       "dtype: int64"
      ]
     },
     "execution_count": 34,
     "metadata": {},
     "output_type": "execute_result"
    }
   ],
   "source": [
    "# Determine if there are any nulll values\n",
    "preferred_cities_df.count()"
   ]
  },
  {
   "cell_type": "code",
   "execution_count": 35,
   "id": "1e47be93",
   "metadata": {},
   "outputs": [
    {
     "data": {
      "text/html": [
       "<div>\n",
       "<style scoped>\n",
       "    .dataframe tbody tr th:only-of-type {\n",
       "        vertical-align: middle;\n",
       "    }\n",
       "\n",
       "    .dataframe tbody tr th {\n",
       "        vertical-align: top;\n",
       "    }\n",
       "\n",
       "    .dataframe thead th {\n",
       "        text-align: right;\n",
       "    }\n",
       "</style>\n",
       "<table border=\"1\" class=\"dataframe\">\n",
       "  <thead>\n",
       "    <tr style=\"text-align: right;\">\n",
       "      <th></th>\n",
       "      <th>City</th>\n",
       "      <th>Country</th>\n",
       "      <th>Max Temp</th>\n",
       "      <th>Lat</th>\n",
       "      <th>Lng</th>\n",
       "      <th>Hotel Name</th>\n",
       "    </tr>\n",
       "  </thead>\n",
       "  <tbody>\n",
       "    <tr>\n",
       "      <th>0</th>\n",
       "      <td>Kralendijk</td>\n",
       "      <td>BQ</td>\n",
       "      <td>80.58</td>\n",
       "      <td>12.1500</td>\n",
       "      <td>-68.2667</td>\n",
       "      <td></td>\n",
       "    </tr>\n",
       "    <tr>\n",
       "      <th>1</th>\n",
       "      <td>Butaritari</td>\n",
       "      <td>KI</td>\n",
       "      <td>82.04</td>\n",
       "      <td>3.0707</td>\n",
       "      <td>172.7902</td>\n",
       "      <td></td>\n",
       "    </tr>\n",
       "    <tr>\n",
       "      <th>3</th>\n",
       "      <td>Sorong</td>\n",
       "      <td>ID</td>\n",
       "      <td>82.31</td>\n",
       "      <td>-0.8833</td>\n",
       "      <td>131.2500</td>\n",
       "      <td></td>\n",
       "    </tr>\n",
       "    <tr>\n",
       "      <th>4</th>\n",
       "      <td>Matay</td>\n",
       "      <td>EG</td>\n",
       "      <td>84.49</td>\n",
       "      <td>28.4190</td>\n",
       "      <td>30.7792</td>\n",
       "      <td></td>\n",
       "    </tr>\n",
       "    <tr>\n",
       "      <th>5</th>\n",
       "      <td>Kuching</td>\n",
       "      <td>MY</td>\n",
       "      <td>77.22</td>\n",
       "      <td>1.5500</td>\n",
       "      <td>110.3333</td>\n",
       "      <td></td>\n",
       "    </tr>\n",
       "  </tbody>\n",
       "</table>\n",
       "</div>"
      ],
      "text/plain": [
       "         City Country  Max Temp      Lat       Lng Hotel Name\n",
       "0  Kralendijk      BQ     80.58  12.1500  -68.2667           \n",
       "1  Butaritari      KI     82.04   3.0707  172.7902           \n",
       "3      Sorong      ID     82.31  -0.8833  131.2500           \n",
       "4       Matay      EG     84.49  28.4190   30.7792           \n",
       "5     Kuching      MY     77.22   1.5500  110.3333           "
      ]
     },
     "execution_count": 35,
     "metadata": {},
     "output_type": "execute_result"
    }
   ],
   "source": [
    "# Create dataframe to store hotel names and other city values based on preferences\n",
    "hotel_df = preferred_cities_df[[\"City\", \"Country\", \"Max Temp\", \"Lat\", \"Lng\"]].copy()\n",
    "hotel_df[\"Hotel Name\"] = \"\"\n",
    "hotel_df.head()"
   ]
  },
  {
   "cell_type": "code",
   "execution_count": 44,
   "id": "1dbe3286",
   "metadata": {},
   "outputs": [],
   "source": [
    "# Set parameters to search for a hotel\n",
    "params = {\n",
    "    \"radius\": 5000,\n",
    "    \"type\": \"lodging\",\n",
    "    \"key\": google_api_key,\n",
    "    \"location\": \"\"\n",
    "}"
   ]
  },
  {
   "cell_type": "code",
   "execution_count": 46,
   "id": "958bc2b5",
   "metadata": {},
   "outputs": [
    {
     "name": "stdout",
     "output_type": "stream",
     "text": [
      "Hotel not found... skipping\n"
     ]
    }
   ],
   "source": [
    "# Iterate through the DataFrame.\n",
    "for index, row in hotel_df.iterrows():\n",
    "    # Get the latitude and longitude.\n",
    "    lat = row[\"Lat\"]\n",
    "    lng = row[\"Lng\"]\n",
    "\n",
    "    # Add the latitude and longitude to location key for the params dictionary.\n",
    "    params[\"location\"] = f\"{lat},{lng}\"\n",
    "\n",
    "    # Use the search term: \"lodging\" and our latitude and longitude.\n",
    "    base_url = \"https://maps.googleapis.com/maps/api/place/nearbysearch/json\"\n",
    "    # Make request and get the JSON data from the search.\n",
    "    hotels = requests.get(base_url, params=params).json()\n",
    "    # Grab the first hotel from the results and store the name.\n",
    "    try:\n",
    "        hotel_df.loc[index, \"Hotel Name\"] = hotels[\"results\"][0][\"name\"]\n",
    "    except (IndexError):\n",
    "        print(\"Hotel not found... skipping\")\n",
    "        continue"
   ]
  },
  {
   "cell_type": "code",
   "execution_count": 49,
   "id": "a693d69d",
   "metadata": {},
   "outputs": [],
   "source": [
    "info_box_template = \"\"\"\n",
    "<dl>\n",
    "<dt>Hotel Name</dt><dd>{Hotel Name}</dd>\n",
    "<dt>City</dt><dd>{City}</dd>\n",
    "<dt>Country</dt><dd>{Country}</dd>\n",
    "<dt>Max Temp</dt><dd>{Max Temp} °F</dd>\n",
    "</dl>\n",
    "\"\"\"\n",
    "\n",
    "# Store the DataFrame Row.\n",
    "hotel_info = [info_box_template.format(**row) for index, row in hotel_df.iterrows()]"
   ]
  },
  {
   "cell_type": "code",
   "execution_count": 51,
   "id": "c1945d5a",
   "metadata": {},
   "outputs": [
    {
     "data": {
      "application/vnd.jupyter.widget-view+json": {
       "model_id": "8f8aa0ecaf424cda8b822a9edb7e2962",
       "version_major": 2,
       "version_minor": 0
      },
      "text/plain": [
       "Figure(layout=FigureLayout(height='420px'))"
      ]
     },
     "metadata": {},
     "output_type": "display_data"
    }
   ],
   "source": [
    "# Add a heatmap of temperature for the vacation spots.\n",
    "locations = hotel_df[[\"Lat\", \"Lng\"]]\n",
    "max_temp = hotel_df[\"Max Temp\"]\n",
    "fig = gmaps.figure(center=(30.0, 31.0), zoom_level=1.5)\n",
    "heat_layer = gmaps.heatmap_layer(locations, weights=max_temp, dissipating=False,\n",
    "             max_intensity=300, point_radius=4)\n",
    "marker_layer = gmaps.marker_layer(locations, info_box_content=hotel_info)\n",
    "fig.add_layer(heat_layer)\n",
    "fig.add_layer(marker_layer)\n",
    "# Call the figure to plot the data.\n",
    "fig"
   ]
  },
  {
   "cell_type": "code",
   "execution_count": null,
   "id": "2d99093b",
   "metadata": {},
   "outputs": [],
   "source": []
  }
 ],
 "metadata": {
  "kernelspec": {
   "display_name": "PythonData",
   "language": "python",
   "name": "pythondata"
  },
  "language_info": {
   "codemirror_mode": {
    "name": "ipython",
    "version": 3
   },
   "file_extension": ".py",
   "mimetype": "text/x-python",
   "name": "python",
   "nbconvert_exporter": "python",
   "pygments_lexer": "ipython3",
   "version": "3.7.13"
  }
 },
 "nbformat": 4,
 "nbformat_minor": 5
}
