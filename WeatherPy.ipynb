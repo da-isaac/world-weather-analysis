{
 "cells": [
  {
   "cell_type": "code",
   "execution_count": 15,
   "id": "af2129cf",
   "metadata": {},
   "outputs": [],
   "source": [
    "# Import dependencies\n",
    "from citipy import citipy\n",
    "import numpy as np\n",
    "import requests\n",
    "from config import weather_api_key\n",
    "import pandas as pd\n",
    "import matplotlib.pyplot as plt"
   ]
  },
  {
   "cell_type": "code",
   "execution_count": 2,
   "id": "99ac9def",
   "metadata": {},
   "outputs": [
    {
     "data": {
      "text/plain": [
       "10"
      ]
     },
     "execution_count": 2,
     "metadata": {},
     "output_type": "execute_result"
    }
   ],
   "source": [
    "# Create a list to hold city names\n",
    "cities = []\n",
    "\n",
    "# Create set of random lat/long combinations\n",
    "## Temporarily setting this to 10 values to limit the number of calls I'm making to the API\n",
    "## should be 1500\n",
    "lats = np.random.uniform(low=-90.000, high=90.000, size=10)\n",
    "lngs = np.random.uniform(low=-180.000, high=180.000, size=10)\n",
    "\n",
    "# Create list of lat/long pairs\n",
    "lat_lngs = zip(lats, lngs)\n",
    "coordinates = list(lat_lngs)\n",
    "\n",
    "# Identify the nearest city for each lat/long combination\n",
    "for coordinate in coordinates:\n",
    "    city = citipy.nearest_city(coordinate[0], coordinate[1]).city_name\n",
    "    \n",
    "    # if city is unique, add to list of cities\n",
    "    if city not in cities:\n",
    "        cities.append(city)\n",
    "\n",
    "# Print number of cities\n",
    "len(cities)"
   ]
  },
  {
   "cell_type": "code",
   "execution_count": 3,
   "id": "e3d80302",
   "metadata": {},
   "outputs": [],
   "source": [
    "# Import time and datetime libraries\n",
    "import time\n",
    "from datetime import datetime"
   ]
  },
  {
   "cell_type": "code",
   "execution_count": 4,
   "id": "391cfb1b",
   "metadata": {},
   "outputs": [
    {
     "name": "stdout",
     "output_type": "stream",
     "text": [
      "Beginning data retreival\n",
      "------------------------\n"
     ]
    }
   ],
   "source": [
    "# Create a variable to store city data\n",
    "city_data = []\n",
    "# Print the beginning of the logging\n",
    "print(\"Beginning data retreival\")\n",
    "print(\"------------------------\")\n",
    "\n",
    "# Create counters\n",
    "record_count = 1\n",
    "set_count = 1"
   ]
  },
  {
   "cell_type": "code",
   "execution_count": 5,
   "id": "a09c9ef1",
   "metadata": {},
   "outputs": [
    {
     "name": "stdout",
     "output_type": "stream",
     "text": [
      "Processing Record 1 of Set 1 | atuona\n",
      "Processing Record 2 of Set 1 | ostrovnoy\n",
      "Processing Record 3 of Set 1 | ketou\n",
      "Processing Record 4 of Set 1 | ozinki\n",
      "Processing Record 5 of Set 1 | dikson\n",
      "Processing Record 6 of Set 1 | muros\n",
      "Processing Record 7 of Set 1 | tuktoyaktuk\n",
      "Processing Record 8 of Set 1 | saint-augustin\n",
      "Processing Record 9 of Set 1 | ternate\n",
      "Processing Record 10 of Set 1 | new norfolk\n",
      "-----------------------------\n",
      "Data Retrieval Complete      \n",
      "-----------------------------\n"
     ]
    }
   ],
   "source": [
    "# Create base url to access api\n",
    "url = \"http://api.openweathermap.org/data/2.5/weather?units=Imperial&APPID=\" + weather_api_key\n",
    "\n",
    "# Loop through the cities\n",
    "for i, city in enumerate(cities):\n",
    "    \n",
    "    # Group cities in sets of 50 for logging purposes\n",
    "    if (i % 50 == 0 and i >= 50):\n",
    "        set_count += 1\n",
    "        record_count = 1\n",
    "        time.sleep(60)\n",
    "    \n",
    "    # Create url for each city\n",
    "    city_url = url + \"&q=\" + city.replace(\" \",\"+\")\n",
    "    \n",
    "    # Log the url, record, and set numbers with city\n",
    "    print(f\"Processing Record {record_count} of Set {set_count} | {city}\")\n",
    "    \n",
    "    # Increase record count\n",
    "    record_count += 1\n",
    "    \n",
    "    # Run API request for each city\n",
    "    try:\n",
    "        # Get JSON Data from query\n",
    "        city_weather = requests.get(city_url).json()\n",
    "        # Parse out the needed data.\n",
    "        city_lat = city_weather[\"coord\"][\"lat\"]\n",
    "        city_lng = city_weather[\"coord\"][\"lon\"]\n",
    "        city_max_temp = city_weather[\"main\"][\"temp_max\"]\n",
    "        city_humidity = city_weather[\"main\"][\"humidity\"]\n",
    "        city_clouds = city_weather[\"clouds\"][\"all\"]\n",
    "        city_wind = city_weather[\"wind\"][\"speed\"]\n",
    "        city_country = city_weather[\"sys\"][\"country\"]\n",
    "        # Convert the date to ISO standard.\n",
    "        city_date = datetime.utcfromtimestamp(city_weather[\"dt\"]).strftime('%Y-%m-%d %H:%M:%S')\n",
    "        # Append the city information into city_data list.\n",
    "        city_data.append({\"City\": city.title(),\n",
    "                          \"Lat\": city_lat,\n",
    "                          \"Lng\": city_lng,\n",
    "                          \"Max Temp\": city_max_temp,\n",
    "                          \"Humidity\": city_humidity,\n",
    "                          \"Cloudiness\": city_clouds,\n",
    "                          \"Wind Speed\": city_wind,\n",
    "                          \"Country\": city_country,\n",
    "                          \"Date\": city_date})\n",
    "    # If error is experienced, skip city\n",
    "    except:\n",
    "        print(f\"City -{city}- not found. Skipping...\")\n",
    "        pass\n",
    "    \n",
    "# Indicate that Data Loading is complete.\n",
    "print(\"-----------------------------\")\n",
    "print(\"Data Retrieval Complete      \")\n",
    "print(\"-----------------------------\")"
   ]
  },
  {
   "cell_type": "code",
   "execution_count": 7,
   "id": "1c60f978",
   "metadata": {},
   "outputs": [
    {
     "data": {
      "text/plain": [
       "[{'City': 'Atuona',\n",
       "  'Lat': -9.8,\n",
       "  'Lng': -139.0333,\n",
       "  'Max Temp': 78.24,\n",
       "  'Humidity': 75,\n",
       "  'Cloudiness': 19,\n",
       "  'Wind Speed': 18.43,\n",
       "  'Country': 'PF',\n",
       "  'Date': '2022-06-09 00:14:08'},\n",
       " {'City': 'Ostrovnoy',\n",
       "  'Lat': 68.0531,\n",
       "  'Lng': 39.5131,\n",
       "  'Max Temp': 51.13,\n",
       "  'Humidity': 60,\n",
       "  'Cloudiness': 81,\n",
       "  'Wind Speed': 13.62,\n",
       "  'Country': 'RU',\n",
       "  'Date': '2022-06-09 00:14:08'},\n",
       " {'City': 'Ketou',\n",
       "  'Lat': 7.3633,\n",
       "  'Lng': 2.5998,\n",
       "  'Max Temp': 75.24,\n",
       "  'Humidity': 93,\n",
       "  'Cloudiness': 35,\n",
       "  'Wind Speed': 4,\n",
       "  'Country': 'BJ',\n",
       "  'Date': '2022-06-09 00:14:09'},\n",
       " {'City': 'Ozinki',\n",
       "  'Lat': 51.1786,\n",
       "  'Lng': 49.6769,\n",
       "  'Max Temp': 56.82,\n",
       "  'Humidity': 74,\n",
       "  'Cloudiness': 88,\n",
       "  'Wind Speed': 14.72,\n",
       "  'Country': 'RU',\n",
       "  'Date': '2022-06-09 00:14:09'},\n",
       " {'City': 'Dikson',\n",
       "  'Lat': 73.5069,\n",
       "  'Lng': 80.5464,\n",
       "  'Max Temp': 31.87,\n",
       "  'Humidity': 85,\n",
       "  'Cloudiness': 79,\n",
       "  'Wind Speed': 4.36,\n",
       "  'Country': 'RU',\n",
       "  'Date': '2022-06-09 00:14:09'},\n",
       " {'City': 'Muros',\n",
       "  'Lat': 42.7762,\n",
       "  'Lng': -9.0603,\n",
       "  'Max Temp': 66.16,\n",
       "  'Humidity': 91,\n",
       "  'Cloudiness': 76,\n",
       "  'Wind Speed': 3.36,\n",
       "  'Country': 'ES',\n",
       "  'Date': '2022-06-09 00:14:10'},\n",
       " {'City': 'Tuktoyaktuk',\n",
       "  'Lat': 69.4541,\n",
       "  'Lng': -133.0374,\n",
       "  'Max Temp': 33.58,\n",
       "  'Humidity': 77,\n",
       "  'Cloudiness': 100,\n",
       "  'Wind Speed': 12.59,\n",
       "  'Country': 'CA',\n",
       "  'Date': '2022-06-09 00:14:10'},\n",
       " {'City': 'Saint-Augustin',\n",
       "  'Lat': 51.226,\n",
       "  'Lng': -58.6502,\n",
       "  'Max Temp': 52.92,\n",
       "  'Humidity': 48,\n",
       "  'Cloudiness': 100,\n",
       "  'Wind Speed': 10.22,\n",
       "  'Country': 'CA',\n",
       "  'Date': '2022-06-09 00:14:11'},\n",
       " {'City': 'Ternate',\n",
       "  'Lat': 0.8,\n",
       "  'Lng': 127.4,\n",
       "  'Max Temp': 81.88,\n",
       "  'Humidity': 75,\n",
       "  'Cloudiness': 10,\n",
       "  'Wind Speed': 5.23,\n",
       "  'Country': 'ID',\n",
       "  'Date': '2022-06-09 00:14:11'},\n",
       " {'City': 'New Norfolk',\n",
       "  'Lat': -42.7826,\n",
       "  'Lng': 147.0587,\n",
       "  'Max Temp': 49.5,\n",
       "  'Humidity': 74,\n",
       "  'Cloudiness': 92,\n",
       "  'Wind Speed': 5.01,\n",
       "  'Country': 'AU',\n",
       "  'Date': '2022-06-09 00:14:11'}]"
      ]
     },
     "execution_count": 7,
     "metadata": {},
     "output_type": "execute_result"
    }
   ],
   "source": [
    "city_data"
   ]
  },
  {
   "cell_type": "code",
   "execution_count": 13,
   "id": "fa9103fe",
   "metadata": {},
   "outputs": [
    {
     "data": {
      "text/html": [
       "<div>\n",
       "<style scoped>\n",
       "    .dataframe tbody tr th:only-of-type {\n",
       "        vertical-align: middle;\n",
       "    }\n",
       "\n",
       "    .dataframe tbody tr th {\n",
       "        vertical-align: top;\n",
       "    }\n",
       "\n",
       "    .dataframe thead th {\n",
       "        text-align: right;\n",
       "    }\n",
       "</style>\n",
       "<table border=\"1\" class=\"dataframe\">\n",
       "  <thead>\n",
       "    <tr style=\"text-align: right;\">\n",
       "      <th></th>\n",
       "      <th>City</th>\n",
       "      <th>Country</th>\n",
       "      <th>Date</th>\n",
       "      <th>Lat</th>\n",
       "      <th>Lng</th>\n",
       "      <th>Max Temp</th>\n",
       "      <th>Humidity</th>\n",
       "      <th>Cloudiness</th>\n",
       "      <th>Wind Speed</th>\n",
       "    </tr>\n",
       "  </thead>\n",
       "  <tbody>\n",
       "    <tr>\n",
       "      <th>0</th>\n",
       "      <td>Atuona</td>\n",
       "      <td>PF</td>\n",
       "      <td>2022-06-09 00:14:08</td>\n",
       "      <td>-9.8000</td>\n",
       "      <td>-139.0333</td>\n",
       "      <td>78.24</td>\n",
       "      <td>75</td>\n",
       "      <td>19</td>\n",
       "      <td>18.43</td>\n",
       "    </tr>\n",
       "    <tr>\n",
       "      <th>1</th>\n",
       "      <td>Ostrovnoy</td>\n",
       "      <td>RU</td>\n",
       "      <td>2022-06-09 00:14:08</td>\n",
       "      <td>68.0531</td>\n",
       "      <td>39.5131</td>\n",
       "      <td>51.13</td>\n",
       "      <td>60</td>\n",
       "      <td>81</td>\n",
       "      <td>13.62</td>\n",
       "    </tr>\n",
       "    <tr>\n",
       "      <th>2</th>\n",
       "      <td>Ketou</td>\n",
       "      <td>BJ</td>\n",
       "      <td>2022-06-09 00:14:09</td>\n",
       "      <td>7.3633</td>\n",
       "      <td>2.5998</td>\n",
       "      <td>75.24</td>\n",
       "      <td>93</td>\n",
       "      <td>35</td>\n",
       "      <td>4.00</td>\n",
       "    </tr>\n",
       "    <tr>\n",
       "      <th>3</th>\n",
       "      <td>Ozinki</td>\n",
       "      <td>RU</td>\n",
       "      <td>2022-06-09 00:14:09</td>\n",
       "      <td>51.1786</td>\n",
       "      <td>49.6769</td>\n",
       "      <td>56.82</td>\n",
       "      <td>74</td>\n",
       "      <td>88</td>\n",
       "      <td>14.72</td>\n",
       "    </tr>\n",
       "    <tr>\n",
       "      <th>4</th>\n",
       "      <td>Dikson</td>\n",
       "      <td>RU</td>\n",
       "      <td>2022-06-09 00:14:09</td>\n",
       "      <td>73.5069</td>\n",
       "      <td>80.5464</td>\n",
       "      <td>31.87</td>\n",
       "      <td>85</td>\n",
       "      <td>79</td>\n",
       "      <td>4.36</td>\n",
       "    </tr>\n",
       "  </tbody>\n",
       "</table>\n",
       "</div>"
      ],
      "text/plain": [
       "        City Country                 Date      Lat       Lng  Max Temp  \\\n",
       "0     Atuona      PF  2022-06-09 00:14:08  -9.8000 -139.0333     78.24   \n",
       "1  Ostrovnoy      RU  2022-06-09 00:14:08  68.0531   39.5131     51.13   \n",
       "2      Ketou      BJ  2022-06-09 00:14:09   7.3633    2.5998     75.24   \n",
       "3     Ozinki      RU  2022-06-09 00:14:09  51.1786   49.6769     56.82   \n",
       "4     Dikson      RU  2022-06-09 00:14:09  73.5069   80.5464     31.87   \n",
       "\n",
       "   Humidity  Cloudiness  Wind Speed  \n",
       "0        75          19       18.43  \n",
       "1        60          81       13.62  \n",
       "2        93          35        4.00  \n",
       "3        74          88       14.72  \n",
       "4        85          79        4.36  "
      ]
     },
     "execution_count": 13,
     "metadata": {},
     "output_type": "execute_result"
    }
   ],
   "source": [
    "# Create dataframe of the generated values from earlier\n",
    "city_data_df = pd.DataFrame(city_data)\n",
    "\n",
    "# Create new column order for dataframe\n",
    "new_column_order = [\"City\", \"Country\", \"Date\", \"Lat\", \"Lng\", \"Max Temp\", \"Humidity\", \"Cloudiness\", \"Wind Speed\"]\n",
    "city_data_df = city_data_df[new_column_order]\n",
    "\n",
    "# Preview city_data_df\n",
    "city_data_df.head()"
   ]
  },
  {
   "cell_type": "code",
   "execution_count": null,
   "id": "e24cf06f",
   "metadata": {},
   "outputs": [],
   "source": [
    "# Create output file\n",
    "output_data_file = \"weather_data/cities.csv\"\n",
    "# Export output file\n",
    "city_data_df.to_csv(output_data_file, index_label=\"City_ID\")"
   ]
  },
  {
   "cell_type": "markdown",
   "id": "b56b9498",
   "metadata": {},
   "source": [
    "# Plotting Weather Data"
   ]
  },
  {
   "cell_type": "code",
   "execution_count": 21,
   "id": "9d8f1e8c",
   "metadata": {},
   "outputs": [
    {
     "data": {
      "image/png": "[encoded data removed]",
      "text/plain": [
       "<Figure size 432x288 with 1 Axes>"
      ]
     },
     "metadata": {
      "needs_background": "light"
     },
     "output_type": "display_data"
    }
   ],
   "source": [
    "# Create scatter for lat and max temp\n",
    "plt.scatter(city_data_df[\"Lat\"],\n",
    "           city_data_df[\"Max Temp\"],\n",
    "           edgecolor=\"black\",\n",
    "           linewidths=1,\n",
    "           marker=\"o\",\n",
    "           alpha=0.8,\n",
    "           label=\"Cities\")\n",
    "\n",
    "# Assign other graph properties\n",
    "plt.title(f\"City Latitude vs. Max Temperature \" + time.strftime(\"%x\"))\n",
    "plt.ylabel(\"Max Temperature (F)\")\n",
    "plt.xlabel(\"Latitude\")\n",
    "plt.grid(True)\n",
    "\n",
    "# Save figure\n",
    "plt.savefig(\"weather_data/Fig1.png\")\n",
    "\n",
    "# Show Plot\n",
    "plt.show()"
   ]
  },
  {
   "cell_type": "code",
   "execution_count": 22,
   "id": "7f6546a6",
   "metadata": {},
   "outputs": [
    {
     "data": {
      "image/png": "[encoded data removed]",
      "text/plain": [
       "<Figure size 432x288 with 1 Axes>"
      ]
     },
     "metadata": {
      "needs_background": "light"
     },
     "output_type": "display_data"
    }
   ],
   "source": [
    "# Create scatter for lat and humidity\n",
    "plt.scatter(city_data_df[\"Lat\"],\n",
    "           city_data_df[\"Humidity\"],\n",
    "           edgecolor=\"black\",\n",
    "           linewidths=1,\n",
    "           marker=\"o\",\n",
    "           alpha=0.8,\n",
    "           label=\"Cities\")\n",
    "\n",
    "# Assign other graph properties\n",
    "plt.title(f\"City Latitude vs. Humidity \" + time.strftime(\"%x\"))\n",
    "plt.ylabel(\"Humidity\")\n",
    "plt.xlabel(\"Latitude\")\n",
    "plt.grid(True)\n",
    "\n",
    "# Save figure\n",
    "plt.savefig(\"weather_data/Fig2.png\")\n",
    "\n",
    "# Show Plot\n",
    "plt.show()"
   ]
  },
  {
   "cell_type": "code",
   "execution_count": 23,
   "id": "1e5ceec0",
   "metadata": {},
   "outputs": [
    {
     "data": {
      "image/png": "[encoded data removed]",
      "text/plain": [
       "<Figure size 432x288 with 1 Axes>"
      ]
     },
     "metadata": {
      "needs_background": "light"
     },
     "output_type": "display_data"
    }
   ],
   "source": [
    "# Create scatter for lat and cloudiness\n",
    "plt.scatter(city_data_df[\"Lat\"],\n",
    "           city_data_df[\"Cloudiness\"],\n",
    "           edgecolor=\"black\",\n",
    "           linewidths=1,\n",
    "           marker=\"o\",\n",
    "           alpha=0.8,\n",
    "           label=\"Cities\")\n",
    "\n",
    "# Assign other graph properties\n",
    "plt.title(f\"City Latitude vs. Cloudiness (%)\" + time.strftime(\"%x\"))\n",
    "plt.ylabel(\"Cloudiness (%)\")\n",
    "plt.xlabel(\"Latitude\")\n",
    "plt.grid(True)\n",
    "\n",
    "# Save figure\n",
    "plt.savefig(\"weather_data/Fig3.png\")\n",
    "\n",
    "# Show Plot\n",
    "plt.show()"
   ]
  },
  {
   "cell_type": "code",
   "execution_count": 25,
   "id": "bead0a68",
   "metadata": {},
   "outputs": [
    {
     "data": {
      "image/png": "[encoded data removed]",
      "text/plain": [
       "<Figure size 432x288 with 1 Axes>"
      ]
     },
     "metadata": {
      "needs_background": "light"
     },
     "output_type": "display_data"
    }
   ],
   "source": [
    "# Create scatter for lat and cloudiness\n",
    "plt.scatter(city_data_df[\"Lat\"],\n",
    "           city_data_df[\"Wind Speed\"],\n",
    "           edgecolor=\"black\",\n",
    "           linewidths=1,\n",
    "           marker=\"o\",\n",
    "           alpha=0.8,\n",
    "           label=\"Cities\")\n",
    "\n",
    "# Assign other graph properties\n",
    "plt.title(f\"City Latitude vs. Wind Speed \" + time.strftime(\"%x\"))\n",
    "plt.ylabel(\"Wind Speed (mph)\")\n",
    "plt.xlabel(\"Latitude\")\n",
    "plt.grid(True)\n",
    "\n",
    "# Save figure\n",
    "plt.savefig(\"weather_data/Fig4.png\")\n",
    "\n",
    "# Show Plot\n",
    "plt.show()"
   ]
  }
 ],
 "metadata": {
  "kernelspec": {
   "display_name": "PythonData",
   "language": "python",
   "name": "pythondata"
  },
  "language_info": {
   "codemirror_mode": {
    "name": "ipython",
    "version": 3
   },
   "file_extension": ".py",
   "mimetype": "text/x-python",
   "name": "python",
   "nbconvert_exporter": "python",
   "pygments_lexer": "ipython3",
   "version": "3.7.13"
  }
 },
 "nbformat": 4,
 "nbformat_minor": 5
}
