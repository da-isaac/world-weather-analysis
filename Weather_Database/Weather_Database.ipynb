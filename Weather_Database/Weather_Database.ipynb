{
 "cells": [
  {
   "cell_type": "code",
   "execution_count": null,
   "id": "85c4b64d",
   "metadata": {},
   "outputs": [],
   "source": [
    "# Import dependencies\n",
    "import numpy as np\n",
    "from citipy import citipy\n",
    "from config import weather_api_key\n",
    "import requests\n",
    "import pandas as pd\n",
    "import time"
   ]
  },
  {
   "cell_type": "code",
   "execution_count": null,
   "id": "67947919",
   "metadata": {},
   "outputs": [],
   "source": [
    "# Generate 2,000 random lats/longs\n",
    "lats = np.random.uniform(low=-90.000, high=90.000, size =2000)\n",
    "longs = np.random.uniform(low=-90.000, high=90.000, size =2000)\n",
    "\n",
    "# Store lat/long values in a list of tuples\n",
    "lat_longs = zip(lats, longs)\n",
    "coordinates = list(lat_longs)"
   ]
  },
  {
   "cell_type": "code",
   "execution_count": null,
   "id": "7a97236f",
   "metadata": {},
   "outputs": [],
   "source": [
    "# Create a new list variable to store generated city values\n",
    "cities = []\n",
    "\n",
    "# Use citipy to identify the nearest cities\n",
    "for coordinate in coordinates:\n",
    "    city = citipy.nearest_city(coordinate[0], coordinate[1]).city_name\n",
    "    \n",
    "    #Check to see if the city has already been found\n",
    "    if city not in cities:\n",
    "        cities.append(city)\n",
    "        \n",
    "# Print number of cities\n",
    "print(f\"The lat/long values generated {len(cities)} cities.\")"
   ]
  },
  {
   "cell_type": "code",
   "execution_count": null,
   "id": "8820d46e",
   "metadata": {},
   "outputs": [],
   "source": [
    "# Create a list that will store a dictionary of information for each city\n",
    "city_data = []\n",
    "\n",
    "# Store API base URL with API key to access weather data later\n",
    "url = \"http://api.openweathermap.org/data/2.5/weather?units=imperial&appid=\" + weather_api_key\n",
    "\n",
    "# Loop through each city\n",
    "for i, city in enumerate(cities):\n",
    "    \n",
    "    # Create city url for API call\n",
    "    # The city.replace() function replaces spaces in list of cities with pluses\n",
    "    city_url = url + \"&q=\" + city.replace(\" \",\"+\")\n",
    "    \n",
    "    try:\n",
    "        # Call the city data from the API\n",
    "        print(f\"Requesting data from {city}\")\n",
    "        city_weather = requests.get(city_url).json()\n",
    "        time.sleep(1)\n",
    "        \n",
    "        # Parse out information for each city\n",
    "        city_country = city_weather[\"sys\"][\"country\"]\n",
    "        city_lat = city_weather[\"coord\"][\"lat\"]\n",
    "        city_long = city_weather[\"coord\"][\"lon\"]\n",
    "        city_max_temp = city_weather[\"main\"][\"temp_max\"]\n",
    "        city_humidity = city_weather[\"main\"][\"humidity\"]\n",
    "        city_clouds = city_weather[\"clouds\"][\"all\"]\n",
    "        city_wind = city_weather[\"wind\"][\"speed\"]\n",
    "        city_weather_description = city_weather[\"weather\"][0][\"description\"]\n",
    "        \n",
    "        \n",
    "        # Add city data to city dictionary\n",
    "        city_data.append({\"City\": city.title(),\n",
    "                         \"Country\": city_country,\n",
    "                         \"Lat\": city_lat,\n",
    "                         \"Lng\": city_long,\n",
    "                         \"Max Temp\": city_max_temp,\n",
    "                         \"Humidity\": city_humidity,\n",
    "                         \"Cloudiness\": city_clouds,\n",
    "                         \"Wind Speed\": city_wind,\n",
    "                         \"Current Description\": city_weather_description})\n",
    "    except:\n",
    "        pass"
   ]
  },
  {
   "cell_type": "code",
   "execution_count": null,
   "id": "93d5bc5a",
   "metadata": {},
   "outputs": [],
   "source": [
    "# Create a dataframe with the city data\n",
    "city_data_df = pd.DataFrame(city_data)\n",
    "\n",
    "# Store the dataframe in a csv file\n",
    "output_data_file = \"./WeatherPy_Database.csv\"\n",
    "city_data_df.to_csv(output_data_file, index_label=\"City_ID\")"
   ]
  }
 ],
 "metadata": {
  "kernelspec": {
   "display_name": "PythonData",
   "language": "python",
   "name": "pythondata"
  },
  "language_info": {
   "codemirror_mode": {
    "name": "ipython",
    "version": 3
   },
   "file_extension": ".py",
   "mimetype": "text/x-python",
   "name": "python",
   "nbconvert_exporter": "python",
   "pygments_lexer": "ipython3",
   "version": "3.7.13"
  }
 },
 "nbformat": 4,
 "nbformat_minor": 5
}
